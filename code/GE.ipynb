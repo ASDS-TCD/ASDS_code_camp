{
 "cells": [
  {
   "cell_type": "markdown",
   "id": "41c36508",
   "metadata": {},
   "source": [
    "# We Make Titles the Same Way as Markdown"
   ]
  },
  {
   "cell_type": "code",
   "execution_count": null,
   "id": "98fc3b71",
   "metadata": {},
   "outputs": [],
   "source": [
    "import numpy as np\n",
    "import pandas as pd\n",
    "import matplotlib.pyplot as plt"
   ]
  },
  {
   "cell_type": "markdown",
   "id": "1401a36c",
   "metadata": {},
   "source": [
    "Instead of chunks we have cells. The above cell is a code cell. Like any good script, we begin with listing our libraries. You can run a cell by highlighting it and clicking the \"run\" button, or using the correct keyboard shortcut. For Windows this is `Ctrl - Enter`. Run the above cell and this cell. What happens?"
   ]
  },
  {
   "cell_type": "markdown",
   "id": "c2d035b2",
   "metadata": {},
   "source": [
    "This cell and the above cell are **markdown** cells. You can change the type of cell by going to \"cell\" and \"cell type\". Once you have run a cell, you can edit it again by double-clicking on the box. You can add new cells by pressing the + button in the task bar above. Try it - create a new cell, change it to markdown, and add a **sub-title** \"General Election Results in Ireland, 1992-2020.\""
   ]
  },
  {
   "cell_type": "markdown",
   "id": "f74b4a01",
   "metadata": {},
   "source": [
    "## General Election Results in Ireland, 1992-2020"
   ]
  },
  {
   "cell_type": "code",
   "execution_count": null,
   "id": "69885bbc",
   "metadata": {},
   "outputs": [],
   "source": []
  },
  {
   "cell_type": "markdown",
   "id": "d1900602",
   "metadata": {},
   "source": [
    "In the code cell above, copy/paste the **dict** we created on Wednesday with the GE results. Don't forget to also copy/paste the line of code that transforms the **dict** into a **data frame**."
   ]
  },
  {
   "cell_type": "code",
   "execution_count": null,
   "id": "3a5a1dd3",
   "metadata": {},
   "outputs": [],
   "source": [
    "print(data_frame); data_frame"
   ]
  },
  {
   "cell_type": "markdown",
   "id": "7cd45fe3",
   "metadata": {},
   "source": [
    "In the cell above we have two commands (the semi-colon allows us to write two commands on the same line). Note the difference in output: calling the `print()` function on a data frame object in Jupyter causes the data to be rendered in a basic, terminal-esque output. Calling the object name by itself however gives a nicer output. Why?"
   ]
  },
  {
   "cell_type": "code",
   "execution_count": null,
   "id": "1f1f5c54",
   "metadata": {},
   "outputs": [],
   "source": [
    "data_frame.style"
   ]
  },
  {
   "cell_type": "markdown",
   "id": "2ac02dcc",
   "metadata": {},
   "source": [
    "The above cell provides the answer: data frame objects come with a **style attribute**, which automatically tells Jupyter how to render the object in a HTML setting. It is possible to change the default settings for this style, but it is a little complicated for today's class, so we'll stick with the default for now."
   ]
  },
  {
   "cell_type": "code",
   "execution_count": null,
   "id": "7e66d79d",
   "metadata": {},
   "outputs": [],
   "source": []
  },
  {
   "cell_type": "markdown",
   "id": "a7b94ffc",
   "metadata": {},
   "source": [
    "Our last job is to input the code for the line plot(s) we produced on Wednesday. Copy/paste the code into the cell above and run it. Once you're done, press the >> button to the right of \"run\" and see what happens."
   ]
  },
  {
   "cell_type": "markdown",
   "id": "783bf5a3",
   "metadata": {},
   "source": [
    "Once you've run all the code, we can output the Notebook as a HTML document. Go to the \"File\" menu and select \"Download as...\", then \".HTML\". See what happens."
   ]
  }
 ],
 "metadata": {
  "kernelspec": {
   "display_name": "Python 3 (ipykernel)",
   "language": "python",
   "name": "python3"
  },
  "language_info": {
   "codemirror_mode": {
    "name": "ipython",
    "version": 3
   },
   "file_extension": ".py",
   "mimetype": "text/x-python",
   "name": "python",
   "nbconvert_exporter": "python",
   "pygments_lexer": "ipython3",
   "version": "3.8.8"
  }
 },
 "nbformat": 4,
 "nbformat_minor": 5
}
